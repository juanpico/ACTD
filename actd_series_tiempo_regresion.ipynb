{
 "cells": [
  {
   "cell_type": "markdown",
   "metadata": {},
   "source": [
    "# Regresión en Series de Tiempo"
   ]
  },
  {
   "cell_type": "code",
   "execution_count": null,
   "metadata": {},
   "outputs": [],
   "source": [
    "import numpy as np\n",
    "import pandas as pd\n",
    "import matplotlib.pyplot as plt\n",
    "#import rpy2.robjects as robjects\n",
    "import statsmodels.api as sm\n",
    "from statsmodels.formula.api import ols\n",
    "from astsadata import *"
   ]
  },
  {
   "cell_type": "markdown",
   "metadata": {},
   "source": [
    "### Ejemplo 2.1. Estimación de tendencia lineal "
   ]
  },
  {
   "cell_type": "code",
   "execution_count": null,
   "metadata": {},
   "outputs": [],
   "source": [
    "# Example 2.1\n",
    "# Desviaciones de temperatura global \n",
    "ax = gtemp.plot(xlabel=\"Time\", ylabel=\"Global Temperature deviation\", legend=False)\n"
   ]
  },
  {
   "cell_type": "code",
   "execution_count": null,
   "metadata": {},
   "outputs": [],
   "source": [
    "# Example 2.1\n",
    "time = pd.Series([idx.ordinal for idx in gtemp.index], index=gtemp.index)\n",
    "data_reg = pd.concat([time, gtemp], axis=1)\n",
    "data_reg.columns = [\"time\", \"gtemp\"]\n",
    "\n",
    "fit = ols(formula=\"gtemp ~ time\", data=data_reg).fit()\n",
    "print(fit.summary())\n",
    "\n",
    "ax = gtemp.plot(xlabel=\"Time\", ylabel=\"Global Temperature deviation\", legend=False)\n",
    "ax.plot(data_reg.index, fit.params.Intercept + fit.params.time * time)\n",
    "plt.show()"
   ]
  },
  {
   "cell_type": "code",
   "execution_count": null,
   "metadata": {},
   "outputs": [],
   "source": [
    "# Example 2.2\n",
    "fig, axes = plt.subplots(nrows=3, figsize=(8, 8))\n",
    "\n",
    "cmort.plot(ax=axes[0], xlabel=\"Time\", title=\"Cardiovascular Mortality\", legend=False)\n",
    "tempr.plot(ax=axes[1], xlabel=\"Time\", title=\"Temperature\", legend=False)\n",
    "part.plot(ax=axes[2], xlabel=\"Time\", title=\"Particulates\", legend=False)\n",
    "\n",
    "fig.tight_layout()\n",
    "plt.show()"
   ]
  },
  {
   "cell_type": "code",
   "execution_count": null,
   "metadata": {},
   "outputs": [],
   "source": [
    "pairs = pd.concat([cmort, tempr, part], axis=1)\n",
    "pairs.columns = [\"cmort\", \"tempr\", \"part\"]\n",
    "\n",
    "pd.plotting.scatter_matrix(pairs, figsize=(7, 5))\n",
    "plt.show()"
   ]
  },
  {
   "cell_type": "code",
   "execution_count": null,
   "metadata": {},
   "outputs": [],
   "source": [
    "# Regression\n",
    "temp = tempr - tempr.mean() # center temperature\n",
    "temp2 = temp.pow(2) # square it\n",
    "trend = pd.Series([idx.ordinal for idx in cmort.index], index=cmort.index) # time\n",
    "\n",
    "X = pd.concat([cmort, temp, temp2, trend, part], axis=1)\n",
    "X.columns = [\"cmort\", \"temp\", \"temp2\", \"trend\", \"part\"]\n",
    "\n",
    "fit = ols(formula=\"cmort ~ trend + temp + temp2 + part\", data=X).fit()\n",
    "\n",
    "print(fit.summary())"
   ]
  },
  {
   "cell_type": "code",
   "execution_count": null,
   "metadata": {},
   "outputs": [],
   "source": [
    "print(sm.stats.anova_lm(fit)) # ANOVA table"
   ]
  }
 ],
 "metadata": {
  "kernelspec": {
   "display_name": "Python 3.9.7 ('base')",
   "language": "python",
   "name": "python3"
  },
  "language_info": {
   "codemirror_mode": {
    "name": "ipython",
    "version": 3
   },
   "file_extension": ".py",
   "mimetype": "text/x-python",
   "name": "python",
   "nbconvert_exporter": "python",
   "pygments_lexer": "ipython3",
   "version": "3.9.7"
  },
  "orig_nbformat": 4,
  "vscode": {
   "interpreter": {
    "hash": "c0b1841c3a9ede5f0df38ef74fe84e5ae0b003950945172f1b507ff85d6c4a6c"
   }
  }
 },
 "nbformat": 4,
 "nbformat_minor": 2
}
